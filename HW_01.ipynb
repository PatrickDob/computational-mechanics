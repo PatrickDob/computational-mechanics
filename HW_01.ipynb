{
 "cells": [
  {
   "cell_type": "markdown",
   "id": "fc487339",
   "metadata": {},
   "source": [
    "> __Content modified under Creative Commons Attribution license CC-BY\n",
    "> 4.0, code under BSD 3-Clause License © 2020 R.C. Cooper__"
   ]
  },
  {
   "cell_type": "code",
   "execution_count": 1,
   "id": "08f501eb",
   "metadata": {
    "tags": [
     "hide-input"
    ]
   },
   "outputs": [],
   "source": [
    "import numpy as np\n",
    "import matplotlib.pyplot as plt\n",
    "plt.style.use('fivethirtyeight')"
   ]
  },
  {
   "cell_type": "markdown",
   "id": "5bf145ed",
   "metadata": {},
   "source": [
    "# Homework\n",
    "\n",
    "## Problems [Part 1](./01_Interacting_with_Python.md)\n",
    "\n",
    "1. Calculate some properties of a rectangular box that is 12.5\"$\\times$11\"$\\times$14\" and weighs 31 lbs\n",
    "\n",
    "    a. What is the volume of the box?\n",
    "    \n",
    "    b. What is the average density of the box?\n",
    "    \n",
    "    c. What is the result of the following logical operation, `volume>1000` (in inches^3)"
   ]
  },
  {
   "cell_type": "code",
   "execution_count": null,
   "id": "18a9cabe",
   "metadata": {},
   "outputs": [],
   "source": []
  },
  {
   "cell_type": "markdown",
   "id": "cde92b88",
   "metadata": {},
   "source": [
    "2. Use the variables given below, `str1` and `str2`, and check the following \n",
    "\n",
    "    a. `str1<str2`\n",
    "    \n",
    "    b. `str1==str2`\n",
    "    \n",
    "    c. `str1>str2`\n",
    "    \n",
    "    d. How could you force (b) to be true? [Hint](https://docs.python.org/3/library/stdtypes.html?highlight=str.lower#str.lower) or [Hint](https://docs.python.org/3/library/stdtypes.html?highlight=str.lower#str.upper)"
   ]
  },
  {
   "cell_type": "code",
   "execution_count": 2,
   "id": "30433ce7",
   "metadata": {},
   "outputs": [],
   "source": [
    "str1 = 'Python'\n",
    "str2 = 'python'"
   ]
  },
  {
   "cell_type": "markdown",
   "id": "c4823e4e",
   "metadata": {},
   "source": [
    "3. The following code has an error, fix the error so that the correct result is returned:\n",
    "\n",
    "```y is 20 and x is less than y```\n",
    "\n",
    "```python\n",
    "x=\"1\"\n",
    "y=20\n",
    "\n",
    "if x<y and y==20:\n",
    "    print('y is 20 and x is less than y')\n",
    "else:\n",
    "    print('x is not less than y')\n",
    "```"
   ]
  },
  {
   "cell_type": "code",
   "execution_count": null,
   "id": "88170ec1",
   "metadata": {},
   "outputs": [],
   "source": []
  },
  {
   "cell_type": "markdown",
   "id": "fa4f1723",
   "metadata": {},
   "source": [
    "4. There is a commonly-used programming question that asks interviewees\n",
    "   to build a [fizz-buzz](https://en.wikipedia.org/wiki/Fizz_buzz) result. \n",
    "   \n",
    "   Here, you will build a similar program, but use the numbers from the\n",
    "   class, **3255:** $3,~2,~5\\rightarrow$ \"computational\", \"mechanics\",\n",
    "   \"rocks!\". You should print out a list of numbers, if the number is\n",
    "   divisible by 3, replace the 3 with \"computational\". If the number is\n",
    "   divisible by 2, replace with \"mechanics\". If the number is divisible\n",
    "   by 5, replace the number with \"rocks!\". If the number is divisible by\n",
    "   a combination, then add both words e.g. 6 is divisible by 3 and 2, so\n",
    "   you would print out \"computational mechanics\". \n",
    "   \n",
    "   Here are the first 20 outputs your program should print, \n",
    "   \n",
    "| index | printed output |\n",
    "| ---   | ---            |\n",
    "0 | Computational Mechanics Rocks!\n",
    "1 | 1\n",
    "2 | Mechanics \n",
    "3 | Computational \n",
    "4 | Mechanics \n",
    "5 | Rocks!\n",
    "6 | Computational Mechanics\n",
    "7 | 7\n",
    "8 | Mechanics \n",
    "9 | Computational \n",
    "10 | Mechanics Rocks!\n",
    "11 | 11\n",
    "12 | Computational Mechanics\n",
    "13 | 13\n",
    "14 | Mechanics \n",
    "15 | Computational Rocks!\n",
    "16 | Mechanics \n",
    "17 | 17\n",
    "18 | Computational Mechanics\n",
    "19 | 19"
   ]
  },
  {
   "cell_type": "code",
   "execution_count": null,
   "id": "b6103d71",
   "metadata": {},
   "outputs": [],
   "source": []
  },
  {
   "cell_type": "markdown",
   "id": "bc12a811",
   "metadata": {},
   "source": [
    "## Problems [Part 2](./02_Working_with_Python.md)\n",
    "\n",
    "1. Create a function called `sincos(x)` that returns two arrays, `sinx` and `cosx` that return the sine and cosine of the input array, `x`. \n",
    "\n",
    "    a. Document your function with a help file in `'''help'''`\n",
    "    \n",
    "    b. Use your function to plot sin(x) and cos(x) for x=$0..2\\pi$"
   ]
  },
  {
   "cell_type": "code",
   "execution_count": null,
   "id": "b012cda9",
   "metadata": {},
   "outputs": [],
   "source": []
  },
  {
   "cell_type": "markdown",
   "id": "6e7788e3",
   "metadata": {},
   "source": [
    "2. Use a for-loop to create a variable called `A_99`, where every element is the product\n",
    "of the two indices from 0 to 9 e.g. A_99[3,2]=6 and A_99[4,4]=16. \n",
    "\n",
    "    \n",
    "a. Calculate the mean and standard deviation of `A_99`\n",
    "\n",
    "b. time your script that creates `A_99` takes its mean and standard deviation using `%%timeit`"
   ]
  },
  {
   "cell_type": "code",
   "execution_count": null,
   "id": "3674b7a4",
   "metadata": {},
   "outputs": [],
   "source": []
  },
  {
   "cell_type": "markdown",
   "id": "d112c8a1",
   "metadata": {},
   "source": [
    "3. Use the two arrays, X and Y, given below to create A_99 using numpy array math rather than a for-loop."
   ]
  },
  {
   "cell_type": "code",
   "execution_count": 3,
   "id": "c0197fea",
   "metadata": {},
   "outputs": [],
   "source": [
    "X, Y = np.meshgrid(np.arange(10), np.arange(10))"
   ]
  },
  {
   "cell_type": "markdown",
   "id": "fb99314d",
   "metadata": {},
   "source": [
    "b. Calculate the mean and standard deviation of `A_99`\n",
    "\n",
    "c. time your script that creates `A_99` takes its mean and standard deviation using `%%timeit`    \n",
    "    \n",
    "d. create a filled contour plot of X, Y, A_99 [contourf plot documentation](https://matplotlib.org/3.1.1/api/_as_gen/matplotlib.pyplot.contourf.html)"
   ]
  },
  {
   "cell_type": "code",
   "execution_count": null,
   "id": "6de86fd4",
   "metadata": {},
   "outputs": [],
   "source": []
  },
  {
   "cell_type": "markdown",
   "id": "784418dd",
   "metadata": {},
   "source": [
    "4. The following linear interpolation function has an error. It is supposed to return y(x) given the the two points $p_1=[x_1,~y_1]$ and $p_2=[x_2,~y_2]$. Currently, it just returns and error.\n",
    "\n",
    "```python\n",
    "def linInterp(x,p1,p2):\n",
    "    '''linear interplation function\n",
    "    return y(x) given the two endpoints \n",
    "    p1=np.array([x1,y1])\n",
    "    and\n",
    "    p2=np.array([x2,y2])'''\n",
    "    slope = (p2[2]-p1[2])/(p2[1]-p1[1])\n",
    "    \n",
    "    return p1[2]+slope*(x - p1[1])\n",
    "```"
   ]
  },
  {
   "cell_type": "code",
   "execution_count": null,
   "id": "1774f754",
   "metadata": {},
   "outputs": [],
   "source": []
  },
  {
   "cell_type": "markdown",
   "id": "fad998ab",
   "metadata": {},
   "source": [
    "## Problems [Part 3](./03_Numerical_error.md)\n",
    "\n",
    "1. The growth of populations of organisms has many engineering and scientific applications. One of the simplest\n",
    "models assumes that the rate of change of the population p is proportional to the existing population at any time t:\n",
    "\n",
    "$\\frac{dp}{dt} = k_g p$\n",
    "\n",
    "where $t$ is time in years, and $k_g$ is growth rate in \\[1/years\\]. \n",
    "\n",
    "The world population has been increasing dramatically, let's make a prediction based upon the [following data](https://worldpopulationhistory.org/map/2020/mercator/1/0/25/) saved in [world_population_1900-2020.csv](../data/world_population_1900-2020.csv):\n",
    "\n",
    "\n",
    "|year| world population |\n",
    "|---|---|\n",
    "|1900|1,578,000,000|\n",
    "|1950|2,526,000,000|\n",
    "|2000|6,127,000,000|\n",
    "|2020|7,795,482,000|\n",
    "\n",
    "a. Use a growth rate of $k_g=0.013$ [1/years] and compare the analytical solution (use initial condition p(1900) = 1578000000) to the Euler integration for time steps of 20 years from 1900 to 2020 (Hint: use method (1)- plot the two solutions together with the given data) \n",
    "\n",
    "b. Discussion question: If you decrease the time steps further and the solution converges, will it converge to the actual world population? Why or why not? \n",
    "\n",
    "**Note: We have used a new function `np.loadtxt` here. Use the `help` or `?` to learn about what this function does and how the arguments can change the output. In the next module, we will go into more details on how to load data, plot data, and present trends.**"
   ]
  },
  {
   "cell_type": "code",
   "execution_count": 4,
   "id": "b53b541a",
   "metadata": {},
   "outputs": [
    {
     "name": "stdout",
     "output_type": "stream",
     "text": [
      "years= [1900. 1950. 2000. 2020.]\n",
      "population = [1.578000e+09 2.526000e+09 6.127000e+09 7.795482e+09]\n"
     ]
    }
   ],
   "source": [
    "import numpy as np\n",
    "year, pop = np.loadtxt('../data/world_population_1900-2020.csv',skiprows=1,delimiter=',',unpack=True)\n",
    "print('years=',year)\n",
    "print('population =', pop)"
   ]
  },
  {
   "cell_type": "code",
   "execution_count": 5,
   "id": "5cbc78dd",
   "metadata": {},
   "outputs": [
    {
     "name": "stdout",
     "output_type": "stream",
     "text": [
      "average population changes 1900-1950, 1950-2000, 2000-2020\n",
      "[18960000. 72020000. 83424100.]\n",
      "average growth of 1900 - 2020\n",
      "58134700.0\n"
     ]
    }
   ],
   "source": [
    "print('average population changes 1900-1950, 1950-2000, 2000-2020')\n",
    "print((pop[1:] - pop[0:-1])/(year[1:] - year[0:-1]))\n",
    "print('average growth of 1900 - 2020')\n",
    "print(np.mean((pop[1:] - pop[0:-1])/(year[1:] - year[0:-1])))"
   ]
  },
  {
   "cell_type": "markdown",
   "id": "749cdaaf",
   "metadata": {},
   "source": [
    "__d.__ What happens to the numerical model as the number of timesteps increases? Does it look more like the analytical curve, $e^k(t-1900)$, or the measured population data, `pop`?"
   ]
  },
  {
   "cell_type": "markdown",
   "id": "d2150b6c",
   "metadata": {},
   "source": [
    "2. In the freefall example you used smaller time steps to decrease the **truncation error** in our Euler approximation. Another way to decrease approximation error is to continue expanding the Taylor series. Consider the function f(x)\n",
    "\n",
    "    $f(x)=e^x = 1+x+\\frac{x^2}{2!}+\\frac{x^3}{3!}+\\frac{x^4}{4!}+...$\n",
    "\n",
    "    We can approximate $e^x$ as $1+x$ (first order), $1+x+x^2/2$ (second order), and so on each higher order results in smaller error. \n",
    "    \n",
    "    a. Use the given `exptaylor` function to approximate the value of exp(1) with a second-order Taylor series expansion. What is the relative error compared to `np.exp(1)`?\n",
    "    \n",
    "    b. Time the solution for a second-order Taylor series and a tenth-order Taylor series using `%%timeit`. How long would a 100,000-order series take (approximate this, **DON'T RUN** `exptaylor(1, 1000000)` )\n",
    "    \n",
    "    c. Plot the relative error as a function of the Taylor series expansion order from first order upwards. (Hint: use method (4) in the comparison methods from the \"Truncation and roundoff error accumulation in log-log plot\" figure)"
   ]
  },
  {
   "cell_type": "code",
   "execution_count": 6,
   "id": "63a5dcee",
   "metadata": {},
   "outputs": [],
   "source": [
    "from math import factorial\n",
    "def exptaylor(x,n):\n",
    "    '''Taylor series expansion about x=0 for the function e^x\n",
    "    the full expansion follows the function\n",
    "    e^x = 1+ x + x**2/2! + x**3/3! + x**4/4! + x**5/5! +...'''\n",
    "    if n<1:\n",
    "        print('lowest order expansion is 0 where e^x = 1')\n",
    "        return 1\n",
    "    else:\n",
    "        ex = 1+x # define the first-order taylor series result\n",
    "        for i in range(1,n):\n",
    "            ex+=x**(i+1)/factorial(i+1) # add the nth-order result for each step in loop\n",
    "        return ex\n",
    "        "
   ]
  },
  {
   "cell_type": "code",
   "execution_count": null,
   "id": "7460c1ae",
   "metadata": {},
   "outputs": [],
   "source": []
  }
 ],
 "metadata": {
  "jupytext": {
   "formats": "notebooks//ipynb,md:myst",
   "text_representation": {
    "extension": ".md",
    "format_name": "myst",
    "format_version": 0.13,
    "jupytext_version": "1.10.3"
   }
  },
  "kernelspec": {
   "display_name": "Python 3 (ipykernel)",
   "language": "python",
   "name": "python3"
  },
  "language_info": {
   "codemirror_mode": {
    "name": "ipython",
    "version": 3
   },
   "file_extension": ".py",
   "mimetype": "text/x-python",
   "name": "python",
   "nbconvert_exporter": "python",
   "pygments_lexer": "ipython3",
   "version": "3.10.14"
  },
  "source_map": [
   13,
   20,
   25,
   39,
   41,
   53,
   56,
   72,
   74,
   114,
   116,
   126,
   128,
   138,
   140,
   144,
   146,
   154,
   156,
   172,
   174,
   201,
   208,
   213,
   217,
   231,
   248
  ]
 },
 "nbformat": 4,
 "nbformat_minor": 5
}